{
 "cells": [
  {
   "cell_type": "code",
   "execution_count": 68,
   "metadata": {},
   "outputs": [
    {
     "data": {
      "text/html": [
       "<script type=\"text/javascript\">window.PlotlyConfig = {MathJaxConfig: 'local'};</script><script type=\"text/javascript\">if (window.MathJax) {MathJax.Hub.Config({SVG: {font: \"STIX-Web\"}});}</script><script>requirejs.config({paths: { 'plotly': ['https://cdn.plot.ly/plotly-latest.min']},});if(!window._Plotly) {require(['plotly'],function(plotly) {window._Plotly=plotly;});}</script>"
      ],
      "text/vnd.plotly.v1+html": [
       "<script type=\"text/javascript\">window.PlotlyConfig = {MathJaxConfig: 'local'};</script><script type=\"text/javascript\">if (window.MathJax) {MathJax.Hub.Config({SVG: {font: \"STIX-Web\"}});}</script><script>requirejs.config({paths: { 'plotly': ['https://cdn.plot.ly/plotly-latest.min']},});if(!window._Plotly) {require(['plotly'],function(plotly) {window._Plotly=plotly;});}</script>"
      ]
     },
     "metadata": {},
     "output_type": "display_data"
    },
    {
     "data": {
      "application/vnd.plotly.v1+json": {
       "data": [
        {
         "type": "scatter",
         "uid": "0c234bd3-1d31-4bce-ad0a-a3d3ad8de126",
         "x": [
          "hour 0",
          "hour 1",
          "hour 2",
          "hour 3",
          "hour 4",
          "hour 5",
          "hour 6",
          "hour 7",
          "hour 8",
          "hour 9",
          "hour 10",
          "hour 11",
          "hour 12",
          "hour 13",
          "hour 14",
          "hour 15",
          "hour 16",
          "hour 17",
          "hour 18",
          "hour 19",
          "hour 20",
          "hour 21",
          "hour 22",
          "hour 23"
         ],
         "y": [
          9190,
          5642,
          2972,
          1907,
          1577,
          1618,
          3464,
          10128,
          17224,
          12631,
          9027,
          25383,
          30920,
          28834,
          21269,
          13867,
          25110,
          19213,
          23957,
          19624,
          24141,
          18507,
          16744,
          14963
         ]
        }
       ],
       "layout": {
        "title": "Number of visits per hour",
        "xaxis": {
         "title": "hours"
        },
        "yaxis": {
         "title": "number of visits"
        }
       }
      },
      "text/html": [
       "<div id=\"6efc766b-cc9d-49ff-a290-872f1799c581\" style=\"height: 525px; width: 100%;\" class=\"plotly-graph-div\"></div><script type=\"text/javascript\">require([\"plotly\"], function(Plotly) { window.PLOTLYENV=window.PLOTLYENV || {};window.PLOTLYENV.BASE_URL=\"https://plot.ly\";Plotly.newPlot(\"6efc766b-cc9d-49ff-a290-872f1799c581\", [{\"x\": [\"hour 0\", \"hour 1\", \"hour 2\", \"hour 3\", \"hour 4\", \"hour 5\", \"hour 6\", \"hour 7\", \"hour 8\", \"hour 9\", \"hour 10\", \"hour 11\", \"hour 12\", \"hour 13\", \"hour 14\", \"hour 15\", \"hour 16\", \"hour 17\", \"hour 18\", \"hour 19\", \"hour 20\", \"hour 21\", \"hour 22\", \"hour 23\"], \"y\": [9190, 5642, 2972, 1907, 1577, 1618, 3464, 10128, 17224, 12631, 9027, 25383, 30920, 28834, 21269, 13867, 25110, 19213, 23957, 19624, 24141, 18507, 16744, 14963], \"type\": \"scatter\", \"uid\": \"85599290-8d09-46e4-97b6-e3195d9628b2\"}], {\"title\": \"Number of visits per hour\", \"xaxis\": {\"title\": \"hours\"}, \"yaxis\": {\"title\": \"number of visits\"}}, {\"showLink\": true, \"linkText\": \"Export to plot.ly\"})});</script><script type=\"text/javascript\">window.addEventListener(\"resize\", function(){Plotly.Plots.resize(document.getElementById(\"6efc766b-cc9d-49ff-a290-872f1799c581\"));});</script>"
      ],
      "text/vnd.plotly.v1+html": [
       "<div id=\"6efc766b-cc9d-49ff-a290-872f1799c581\" style=\"height: 525px; width: 100%;\" class=\"plotly-graph-div\"></div><script type=\"text/javascript\">require([\"plotly\"], function(Plotly) { window.PLOTLYENV=window.PLOTLYENV || {};window.PLOTLYENV.BASE_URL=\"https://plot.ly\";Plotly.newPlot(\"6efc766b-cc9d-49ff-a290-872f1799c581\", [{\"x\": [\"hour 0\", \"hour 1\", \"hour 2\", \"hour 3\", \"hour 4\", \"hour 5\", \"hour 6\", \"hour 7\", \"hour 8\", \"hour 9\", \"hour 10\", \"hour 11\", \"hour 12\", \"hour 13\", \"hour 14\", \"hour 15\", \"hour 16\", \"hour 17\", \"hour 18\", \"hour 19\", \"hour 20\", \"hour 21\", \"hour 22\", \"hour 23\"], \"y\": [9190, 5642, 2972, 1907, 1577, 1618, 3464, 10128, 17224, 12631, 9027, 25383, 30920, 28834, 21269, 13867, 25110, 19213, 23957, 19624, 24141, 18507, 16744, 14963], \"type\": \"scatter\", \"uid\": \"85599290-8d09-46e4-97b6-e3195d9628b2\"}], {\"title\": \"Number of visits per hour\", \"xaxis\": {\"title\": \"hours\"}, \"yaxis\": {\"title\": \"number of visits\"}}, {\"showLink\": true, \"linkText\": \"Export to plot.ly\"})});</script><script type=\"text/javascript\">window.addEventListener(\"resize\", function(){Plotly.Plots.resize(document.getElementById(\"6efc766b-cc9d-49ff-a290-872f1799c581\"));});</script>"
      ]
     },
     "metadata": {},
     "output_type": "display_data"
    }
   ],
   "source": [
    "from plotly.plotly import iplot, plot\n",
    "import plotly.graph_objs as go\n",
    "from numpy import sum, zeros,int,cumsum\n",
    "#\n",
    "plotly.offline.init_notebook_mode(connected=True)\n",
    "\n",
    "x_axis=['hour 0', 'hour 1','hour 2','hour 3','hour 4','hour 5','hour 6','hour 7','hour 8','hour 9','hour 10','hour 11','hour 12','hour 13','hour 14','hour 15','hour 16','hour 17','hour 18','hour 19','hour 20','hour 21','hour 22','hour 23']\n",
    "y_axis=[9190,5642,2972,1907,1577,1618,3464,10128,17224,12631,9027,25383,30920,28834,21269,13867,25110,19213,23957,19624,24141,18507,16744,14963]\n",
    "\n",
    "\n",
    "plotly.offline.iplot({\n",
    "    \"data\": [go.Scatter(x=x_axis, y=y_axis)],\n",
    "    \"layout\": go.Layout(title=\"Number of visits per hour\",yaxis=dict(title=\"number of visits\"),xaxis=dict(title='hours'))\n",
    "})"
   ]
  },
  {
   "cell_type": "code",
   "execution_count": 69,
   "metadata": {},
   "outputs": [
    {
     "data": {
      "application/vnd.plotly.v1+json": {
       "data": [
        {
         "type": "scatter",
         "uid": "e6e8fabb-92ef-4be8-ac2b-9d5f641b3805",
         "x": [
          "hour 0",
          "hour 1",
          "hour 2",
          "hour 3",
          "hour 4",
          "hour 5",
          "hour 6",
          "hour 7",
          "hour 8",
          "hour 9",
          "hour 10",
          "hour 11",
          "hour 12",
          "hour 13",
          "hour 14",
          "hour 15",
          "hour 16",
          "hour 17",
          "hour 18",
          "hour 19",
          "hour 20",
          "hour 21",
          "hour 22",
          "hour 23"
         ],
         "y": [
          9190,
          14832,
          17804,
          19711,
          21288,
          22906,
          26370,
          36498,
          53722,
          66353,
          75380,
          100763,
          131683,
          160517,
          181786,
          195653,
          220763,
          239976,
          263933,
          283557,
          307698,
          326205,
          342949,
          357912
         ]
        }
       ],
       "layout": {
        "title": "Cumulative number of visits per hour",
        "xaxis": {
         "title": "hours"
        },
        "yaxis": {
         "title": "cumulative number of visits"
        }
       }
      },
      "text/html": [
       "<div id=\"483a9846-7cf4-4cfb-968a-8628f16dedfd\" style=\"height: 525px; width: 100%;\" class=\"plotly-graph-div\"></div><script type=\"text/javascript\">require([\"plotly\"], function(Plotly) { window.PLOTLYENV=window.PLOTLYENV || {};window.PLOTLYENV.BASE_URL=\"https://plot.ly\";Plotly.newPlot(\"483a9846-7cf4-4cfb-968a-8628f16dedfd\", [{\"x\": [\"hour 0\", \"hour 1\", \"hour 2\", \"hour 3\", \"hour 4\", \"hour 5\", \"hour 6\", \"hour 7\", \"hour 8\", \"hour 9\", \"hour 10\", \"hour 11\", \"hour 12\", \"hour 13\", \"hour 14\", \"hour 15\", \"hour 16\", \"hour 17\", \"hour 18\", \"hour 19\", \"hour 20\", \"hour 21\", \"hour 22\", \"hour 23\"], \"y\": [9190, 14832, 17804, 19711, 21288, 22906, 26370, 36498, 53722, 66353, 75380, 100763, 131683, 160517, 181786, 195653, 220763, 239976, 263933, 283557, 307698, 326205, 342949, 357912], \"type\": \"scatter\", \"uid\": \"b73f5cf8-bdda-4c85-8bf3-68ef7700e27a\"}], {\"title\": \"Cumulative number of visits per hour\", \"xaxis\": {\"title\": \"hours\"}, \"yaxis\": {\"title\": \"cumulative number of visits\"}}, {\"showLink\": true, \"linkText\": \"Export to plot.ly\"})});</script><script type=\"text/javascript\">window.addEventListener(\"resize\", function(){Plotly.Plots.resize(document.getElementById(\"483a9846-7cf4-4cfb-968a-8628f16dedfd\"));});</script>"
      ],
      "text/vnd.plotly.v1+html": [
       "<div id=\"483a9846-7cf4-4cfb-968a-8628f16dedfd\" style=\"height: 525px; width: 100%;\" class=\"plotly-graph-div\"></div><script type=\"text/javascript\">require([\"plotly\"], function(Plotly) { window.PLOTLYENV=window.PLOTLYENV || {};window.PLOTLYENV.BASE_URL=\"https://plot.ly\";Plotly.newPlot(\"483a9846-7cf4-4cfb-968a-8628f16dedfd\", [{\"x\": [\"hour 0\", \"hour 1\", \"hour 2\", \"hour 3\", \"hour 4\", \"hour 5\", \"hour 6\", \"hour 7\", \"hour 8\", \"hour 9\", \"hour 10\", \"hour 11\", \"hour 12\", \"hour 13\", \"hour 14\", \"hour 15\", \"hour 16\", \"hour 17\", \"hour 18\", \"hour 19\", \"hour 20\", \"hour 21\", \"hour 22\", \"hour 23\"], \"y\": [9190, 14832, 17804, 19711, 21288, 22906, 26370, 36498, 53722, 66353, 75380, 100763, 131683, 160517, 181786, 195653, 220763, 239976, 263933, 283557, 307698, 326205, 342949, 357912], \"type\": \"scatter\", \"uid\": \"b73f5cf8-bdda-4c85-8bf3-68ef7700e27a\"}], {\"title\": \"Cumulative number of visits per hour\", \"xaxis\": {\"title\": \"hours\"}, \"yaxis\": {\"title\": \"cumulative number of visits\"}}, {\"showLink\": true, \"linkText\": \"Export to plot.ly\"})});</script><script type=\"text/javascript\">window.addEventListener(\"resize\", function(){Plotly.Plots.resize(document.getElementById(\"483a9846-7cf4-4cfb-968a-8628f16dedfd\"));});</script>"
      ]
     },
     "metadata": {},
     "output_type": "display_data"
    }
   ],
   "source": [
    "cumulative_y_axis=cumsum(y_axis)\n",
    "\n",
    "plotly.offline.iplot({\n",
    "    \"data\": [go.Scatter(x=x_axis, y=cumulative_y_axis)],\n",
    "    \"layout\": go.Layout(title=\"Cumulative number of visits per hour\",yaxis=dict(title=\"cumulative number of visits\"),xaxis=dict(title='hours'))\n",
    "}) "
   ]
  },
  {
   "cell_type": "code",
   "execution_count": 70,
   "metadata": {},
   "outputs": [
    {
     "data": {
      "application/vnd.plotly.v1+json": {
       "data": [
        {
         "type": "scatter",
         "uid": "935d6fb7-f01f-486f-9f6f-2a0b7cdd2ce7",
         "x": [
          "hour 0",
          "hour 1",
          "hour 2",
          "hour 3",
          "hour 4",
          "hour 5",
          "hour 6",
          "hour 7",
          "hour 8",
          "hour 9",
          "hour 10",
          "hour 11",
          "hour 12",
          "hour 13",
          "hour 14",
          "hour 15",
          "hour 16",
          "hour 17",
          "hour 18",
          "hour 19",
          "hour 20",
          "hour 21",
          "hour 22",
          "hour 23"
         ],
         "y": [
          2319,
          1089,
          609,
          378,
          311,
          357,
          845,
          2482,
          3932,
          2538,
          1876,
          9147,
          7480,
          5642,
          3589,
          2049,
          4296,
          2499,
          3135,
          2164,
          2757,
          1762,
          1618,
          1391
         ]
        }
       ],
       "layout": {
        "title": "Number of new visits per hour",
        "xaxis": {
         "title": "hours"
        },
        "yaxis": {
         "title": "number of new visits"
        }
       }
      },
      "text/html": [
       "<div id=\"c7ec97f7-782f-48f7-8911-9667f3808c8c\" style=\"height: 525px; width: 100%;\" class=\"plotly-graph-div\"></div><script type=\"text/javascript\">require([\"plotly\"], function(Plotly) { window.PLOTLYENV=window.PLOTLYENV || {};window.PLOTLYENV.BASE_URL=\"https://plot.ly\";Plotly.newPlot(\"c7ec97f7-782f-48f7-8911-9667f3808c8c\", [{\"x\": [\"hour 0\", \"hour 1\", \"hour 2\", \"hour 3\", \"hour 4\", \"hour 5\", \"hour 6\", \"hour 7\", \"hour 8\", \"hour 9\", \"hour 10\", \"hour 11\", \"hour 12\", \"hour 13\", \"hour 14\", \"hour 15\", \"hour 16\", \"hour 17\", \"hour 18\", \"hour 19\", \"hour 20\", \"hour 21\", \"hour 22\", \"hour 23\"], \"y\": [2319, 1089, 609, 378, 311, 357, 845, 2482, 3932, 2538, 1876, 9147, 7480, 5642, 3589, 2049, 4296, 2499, 3135, 2164, 2757, 1762, 1618, 1391], \"type\": \"scatter\", \"uid\": \"d35eea49-80f9-4e7d-b60d-30d936174994\"}], {\"title\": \"Number of new visits per hour\", \"xaxis\": {\"title\": \"hours\"}, \"yaxis\": {\"title\": \"number of new visits\"}}, {\"showLink\": true, \"linkText\": \"Export to plot.ly\"})});</script><script type=\"text/javascript\">window.addEventListener(\"resize\", function(){Plotly.Plots.resize(document.getElementById(\"c7ec97f7-782f-48f7-8911-9667f3808c8c\"));});</script>"
      ],
      "text/vnd.plotly.v1+html": [
       "<div id=\"c7ec97f7-782f-48f7-8911-9667f3808c8c\" style=\"height: 525px; width: 100%;\" class=\"plotly-graph-div\"></div><script type=\"text/javascript\">require([\"plotly\"], function(Plotly) { window.PLOTLYENV=window.PLOTLYENV || {};window.PLOTLYENV.BASE_URL=\"https://plot.ly\";Plotly.newPlot(\"c7ec97f7-782f-48f7-8911-9667f3808c8c\", [{\"x\": [\"hour 0\", \"hour 1\", \"hour 2\", \"hour 3\", \"hour 4\", \"hour 5\", \"hour 6\", \"hour 7\", \"hour 8\", \"hour 9\", \"hour 10\", \"hour 11\", \"hour 12\", \"hour 13\", \"hour 14\", \"hour 15\", \"hour 16\", \"hour 17\", \"hour 18\", \"hour 19\", \"hour 20\", \"hour 21\", \"hour 22\", \"hour 23\"], \"y\": [2319, 1089, 609, 378, 311, 357, 845, 2482, 3932, 2538, 1876, 9147, 7480, 5642, 3589, 2049, 4296, 2499, 3135, 2164, 2757, 1762, 1618, 1391], \"type\": \"scatter\", \"uid\": \"d35eea49-80f9-4e7d-b60d-30d936174994\"}], {\"title\": \"Number of new visits per hour\", \"xaxis\": {\"title\": \"hours\"}, \"yaxis\": {\"title\": \"number of new visits\"}}, {\"showLink\": true, \"linkText\": \"Export to plot.ly\"})});</script><script type=\"text/javascript\">window.addEventListener(\"resize\", function(){Plotly.Plots.resize(document.getElementById(\"c7ec97f7-782f-48f7-8911-9667f3808c8c\"));});</script>"
      ]
     },
     "metadata": {},
     "output_type": "display_data"
    }
   ],
   "source": [
    "distinct_y_axis=[2319,1089,609,378,311,357,845,2482,3932,2538,1876,9147,7480,5642,3589,2049,4296,2499,3135,2164,2757,1762,1618,1391]\n",
    "\n",
    "plotly.offline.iplot({\n",
    "    \"data\": [go.Scatter(x=x_axis, y=distinct_y_axis)],\n",
    "    \"layout\": go.Layout(title=\"Number of new visits per hour\",yaxis=dict(title=\"number of new visits\"),xaxis=dict(title='hours'))\n",
    "})                  "
   ]
  },
  {
   "cell_type": "code",
   "execution_count": 72,
   "metadata": {},
   "outputs": [
    {
     "data": {
      "application/vnd.plotly.v1+json": {
       "data": [
        {
         "type": "scatter",
         "uid": "6a27f7c8-68ad-4f1c-b36e-81317fd02478",
         "x": [
          "hour 0",
          "hour 1",
          "hour 2",
          "hour 3",
          "hour 4",
          "hour 5",
          "hour 6",
          "hour 7",
          "hour 8",
          "hour 9",
          "hour 10",
          "hour 11",
          "hour 12",
          "hour 13",
          "hour 14",
          "hour 15",
          "hour 16",
          "hour 17",
          "hour 18",
          "hour 19",
          "hour 20",
          "hour 21",
          "hour 22",
          "hour 23"
         ],
         "y": [
          2319,
          3408,
          4017,
          4395,
          4706,
          5063,
          5908,
          8390,
          12322,
          14860,
          16736,
          25883,
          33363,
          39005,
          42594,
          44643,
          48939,
          51438,
          54573,
          56737,
          59494,
          61256,
          62874,
          64265
         ]
        }
       ],
       "layout": {
        "title": "Cumulative number of new visits per hour",
        "xaxis": {
         "title": "hours"
        },
        "yaxis": {
         "title": "cumulative number of new visits"
        }
       }
      },
      "text/html": [
       "<div id=\"a5854960-9416-4b94-9472-110138129ed5\" style=\"height: 525px; width: 100%;\" class=\"plotly-graph-div\"></div><script type=\"text/javascript\">require([\"plotly\"], function(Plotly) { window.PLOTLYENV=window.PLOTLYENV || {};window.PLOTLYENV.BASE_URL=\"https://plot.ly\";Plotly.newPlot(\"a5854960-9416-4b94-9472-110138129ed5\", [{\"x\": [\"hour 0\", \"hour 1\", \"hour 2\", \"hour 3\", \"hour 4\", \"hour 5\", \"hour 6\", \"hour 7\", \"hour 8\", \"hour 9\", \"hour 10\", \"hour 11\", \"hour 12\", \"hour 13\", \"hour 14\", \"hour 15\", \"hour 16\", \"hour 17\", \"hour 18\", \"hour 19\", \"hour 20\", \"hour 21\", \"hour 22\", \"hour 23\"], \"y\": [2319, 3408, 4017, 4395, 4706, 5063, 5908, 8390, 12322, 14860, 16736, 25883, 33363, 39005, 42594, 44643, 48939, 51438, 54573, 56737, 59494, 61256, 62874, 64265], \"type\": \"scatter\", \"uid\": \"d66f76bc-5f79-46d5-beb3-5176fdbffb91\"}], {\"title\": \"Cumulative number of new visits per hour\", \"xaxis\": {\"title\": \"hours\"}, \"yaxis\": {\"title\": \"cumulative number of new visits\"}}, {\"showLink\": true, \"linkText\": \"Export to plot.ly\"})});</script><script type=\"text/javascript\">window.addEventListener(\"resize\", function(){Plotly.Plots.resize(document.getElementById(\"a5854960-9416-4b94-9472-110138129ed5\"));});</script>"
      ],
      "text/vnd.plotly.v1+html": [
       "<div id=\"a5854960-9416-4b94-9472-110138129ed5\" style=\"height: 525px; width: 100%;\" class=\"plotly-graph-div\"></div><script type=\"text/javascript\">require([\"plotly\"], function(Plotly) { window.PLOTLYENV=window.PLOTLYENV || {};window.PLOTLYENV.BASE_URL=\"https://plot.ly\";Plotly.newPlot(\"a5854960-9416-4b94-9472-110138129ed5\", [{\"x\": [\"hour 0\", \"hour 1\", \"hour 2\", \"hour 3\", \"hour 4\", \"hour 5\", \"hour 6\", \"hour 7\", \"hour 8\", \"hour 9\", \"hour 10\", \"hour 11\", \"hour 12\", \"hour 13\", \"hour 14\", \"hour 15\", \"hour 16\", \"hour 17\", \"hour 18\", \"hour 19\", \"hour 20\", \"hour 21\", \"hour 22\", \"hour 23\"], \"y\": [2319, 3408, 4017, 4395, 4706, 5063, 5908, 8390, 12322, 14860, 16736, 25883, 33363, 39005, 42594, 44643, 48939, 51438, 54573, 56737, 59494, 61256, 62874, 64265], \"type\": \"scatter\", \"uid\": \"d66f76bc-5f79-46d5-beb3-5176fdbffb91\"}], {\"title\": \"Cumulative number of new visits per hour\", \"xaxis\": {\"title\": \"hours\"}, \"yaxis\": {\"title\": \"cumulative number of new visits\"}}, {\"showLink\": true, \"linkText\": \"Export to plot.ly\"})});</script><script type=\"text/javascript\">window.addEventListener(\"resize\", function(){Plotly.Plots.resize(document.getElementById(\"a5854960-9416-4b94-9472-110138129ed5\"));});</script>"
      ]
     },
     "metadata": {},
     "output_type": "display_data"
    }
   ],
   "source": [
    "cumulative_distinct_y_axis=cumsum(distinct_y_axis)\n",
    "\n",
    "plotly.offline.iplot({\n",
    "    \"data\": [go.Scatter(x=x_axis, y=cumulative_distinct_y_axis)],\n",
    "    \"layout\": go.Layout(title=\"Cumulative number of new visits per hour\",yaxis=dict(title=\"cumulative number of new visits\"),xaxis=dict(title='hours'))\n",
    "})   "
   ]
  }
 ],
 "metadata": {
  "kernelspec": {
   "display_name": "Python 3",
   "language": "python",
   "name": "python3"
  },
  "language_info": {
   "codemirror_mode": {
    "name": "ipython",
    "version": 3
   },
   "file_extension": ".py",
   "mimetype": "text/x-python",
   "name": "python",
   "nbconvert_exporter": "python",
   "pygments_lexer": "ipython3",
   "version": "3.7.0"
  }
 },
 "nbformat": 4,
 "nbformat_minor": 2
}
